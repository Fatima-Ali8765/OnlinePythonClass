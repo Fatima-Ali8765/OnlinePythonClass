{
 "cells": [
  {
   "cell_type": "code",
   "execution_count": 6,
   "id": "13a3ccd2",
   "metadata": {},
   "outputs": [
    {
     "name": "stdout",
     "output_type": "stream",
     "text": [
      "Twinkle, twinkle, little star,\n",
      "         How I wonder what you are!\n",
      "                Up above the world so high,\n",
      "                Like a diamond in the sky.\n",
      "Twinkle, twinkle, little star,\n",
      "         How I wonder what you are!\n"
     ]
    }
   ],
   "source": [
    "#Q1\n",
    "PN=\"Twinkle, twinkle, little star,\"\n",
    "mn=\"         How I wonder what you are!\"\n",
    "print(PN)\n",
    "print(mn)\n",
    "print(\"                Up above the world so high,\")\n",
    "print(\"                Like a diamond in the sky.\")\n",
    "print(PN)\n",
    "print(mn)"
   ]
  },
  {
   "cell_type": "code",
   "execution_count": 8,
   "id": "13761ce0",
   "metadata": {},
   "outputs": [
    {
     "name": "stdout",
     "output_type": "stream",
     "text": [
      "Python version: 3.8.8 (default, Apr 13 2021, 15:08:03) [MSC v.1916 64 bit (AMD64)]\n"
     ]
    }
   ],
   "source": [
    "#q2\n",
    "import sys\n",
    "print(\"Python version: \"+sys.version)"
   ]
  },
  {
   "cell_type": "code",
   "execution_count": 14,
   "id": "cf3547b5",
   "metadata": {},
   "outputs": [
    {
     "name": "stdout",
     "output_type": "stream",
     "text": [
      "Date and time: 01/01/2022 22:11:07\n"
     ]
    }
   ],
   "source": [
    "#q3\n",
    "from datetime import date, datetime\n",
    "now=datetime.now()\n",
    "\n",
    "print(\"Date and time: \"+now.strftime(\"%d/%m/%Y %H:%M:%S\"))"
   ]
  },
  {
   "cell_type": "code",
   "execution_count": 17,
   "id": "8a8bf018",
   "metadata": {},
   "outputs": [
    {
     "name": "stdout",
     "output_type": "stream",
     "text": [
      "Enter the radius of circle: 6\n",
      "Area of circle: 113.09733552923255\n"
     ]
    }
   ],
   "source": [
    "#q4\n",
    "import math\n",
    "radius=int(input(\"Enter the radius of circle: \"))\n",
    "print(\"Area of circle: \"+str(radius*radius*math.pi))"
   ]
  },
  {
   "cell_type": "code",
   "execution_count": 19,
   "id": "adcf02ef",
   "metadata": {},
   "outputs": [
    {
     "name": "stdout",
     "output_type": "stream",
     "text": [
      "Enter your first name: fatima\n",
      "Enter your last name: ali\n",
      "amitaf ila\n"
     ]
    }
   ],
   "source": [
    "#q5\n",
    "fn=input(\"Enter your first name: \")\n",
    "ln=input(\"Enter your last name: \")\n",
    "fn=fn[::-1]\n",
    "ln=ln[::-1]\n",
    "print(fn+\" \"+ln)"
   ]
  },
  {
   "cell_type": "code",
   "execution_count": 20,
   "id": "236e7c81",
   "metadata": {},
   "outputs": [
    {
     "name": "stdout",
     "output_type": "stream",
     "text": [
      "Enter the first value: 1\n",
      "Enter the second value: 6\n",
      "Result after addition: 7\n"
     ]
    }
   ],
   "source": [
    "#q6\n",
    "d1=int(input(\"Enter the first value: \"))\n",
    "d2=int(input(\"Enter the second value: \"))\n",
    "print(\"Result after addition: \"+str(d1+d2))"
   ]
  },
  {
   "cell_type": "code",
   "execution_count": null,
   "id": "d9a80a06",
   "metadata": {},
   "outputs": [],
   "source": []
  }
 ],
 "metadata": {
  "kernelspec": {
   "display_name": "Python 3",
   "language": "python",
   "name": "python3"
  },
  "language_info": {
   "codemirror_mode": {
    "name": "ipython",
    "version": 3
   },
   "file_extension": ".py",
   "mimetype": "text/x-python",
   "name": "python",
   "nbconvert_exporter": "python",
   "pygments_lexer": "ipython3",
   "version": "3.8.8"
  }
 },
 "nbformat": 4,
 "nbformat_minor": 5
}
